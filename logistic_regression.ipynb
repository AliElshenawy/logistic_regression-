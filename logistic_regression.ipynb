{
  "nbformat": 4,
  "nbformat_minor": 0,
  "metadata": {
    "colab": {
      "name": "logistic_regression.ipynb",
      "provenance": []
    },
    "kernelspec": {
      "name": "python3",
      "display_name": "Python 3"
    },
    "language_info": {
      "name": "python"
    },
    "accelerator": "GPU"
  },
  "cells": [
    {
      "cell_type": "markdown",
      "source": [
        "#imports library"
      ],
      "metadata": {
        "id": "8sbDVOsoO9Kg"
      }
    },
    {
      "cell_type": "code",
      "execution_count": 3,
      "metadata": {
        "id": "754q56ebGnIQ"
      },
      "outputs": [],
      "source": [
        " import numpy as np\n",
        " import pandas as pd\n",
        " from keras.datasets import mnist \n",
        " from tensorflow import keras"
      ]
    },
    {
      "cell_type": "markdown",
      "source": [
        "# load data"
      ],
      "metadata": {
        "id": "7ig0LjUuPA-c"
      }
    },
    {
      "cell_type": "code",
      "source": [
        "(x_train,y_train),(x_test,y_test)=mnist.load_data()"
      ],
      "metadata": {
        "colab": {
          "base_uri": "https://localhost:8080/"
        },
        "id": "WoSLyHF0HSE1",
        "outputId": "93b7daac-bcf0-459b-e8fa-e8a936fbe1ba"
      },
      "execution_count": 4,
      "outputs": [
        {
          "output_type": "stream",
          "name": "stdout",
          "text": [
            "Downloading data from https://storage.googleapis.com/tensorflow/tf-keras-datasets/mnist.npz\n",
            "11493376/11490434 [==============================] - 0s 0us/step\n",
            "11501568/11490434 [==============================] - 0s 0us/step\n"
          ]
        }
      ]
    },
    {
      "cell_type": "markdown",
      "source": [
        "#flatten(convert 2d into 1d)"
      ],
      "metadata": {
        "id": "-riE8xR-PO4t"
      }
    },
    {
      "cell_type": "code",
      "source": [
        "new_x_train=x_train.reshape(-1,784)\n",
        "new_x_train.shape\n",
        "new_x_test=x_test.reshape(-1,784)\n",
        "new_x_test.shape"
      ],
      "metadata": {
        "colab": {
          "base_uri": "https://localhost:8080/"
        },
        "id": "JxkU_MxrHfqL",
        "outputId": "c77f3dd9-7482-48a6-a396-6faf02f513a5"
      },
      "execution_count": 5,
      "outputs": [
        {
          "output_type": "execute_result",
          "data": {
            "text/plain": [
              "(10000, 784)"
            ]
          },
          "metadata": {},
          "execution_count": 5
        }
      ]
    },
    {
      "cell_type": "markdown",
      "source": [
        "#Normalization"
      ],
      "metadata": {
        "id": "-JRwekvFPYzG"
      }
    },
    {
      "cell_type": "code",
      "source": [
        "final_x_train=new_x_train/256\n",
        "final_x_test=new_x_test/256"
      ],
      "metadata": {
        "id": "BoSA4DMwH-qH"
      },
      "execution_count": 6,
      "outputs": []
    },
    {
      "cell_type": "markdown",
      "source": [
        "#build model"
      ],
      "metadata": {
        "id": "0gSiT6EJQFRp"
      }
    },
    {
      "cell_type": "code",
      "source": [
        "model=keras.Sequential()\n",
        "model.add(keras.layers.Dense(10,input_shape=(784,),activation='softmax'))"
      ],
      "metadata": {
        "id": "Pv5pqtCSIUvW"
      },
      "execution_count": 7,
      "outputs": []
    },
    {
      "cell_type": "markdown",
      "source": [
        "#compile model"
      ],
      "metadata": {
        "id": "j_8I7XTEQIhJ"
      }
    },
    {
      "cell_type": "code",
      "source": [
        "model.compile(loss='sparse_categorical_crossentropy',optimizer='sgd',metrics='accuracy')"
      ],
      "metadata": {
        "id": "rOwvqm1RJHVB"
      },
      "execution_count": 8,
      "outputs": []
    },
    {
      "cell_type": "markdown",
      "source": [
        "#train model "
      ],
      "metadata": {
        "id": "cZ1bDYjwQLbp"
      }
    },
    {
      "cell_type": "code",
      "source": [
        "result =model.fit(\n",
        "    final_x_train,\n",
        "    y_train,\n",
        "    epochs=10,\n",
        "    shuffle=True,\n",
        "    batch_size=8,\n",
        "    validation_data = (final_x_test,y_test),\n",
        ")"
      ],
      "metadata": {
        "colab": {
          "base_uri": "https://localhost:8080/"
        },
        "id": "cbZRMfDsJbzW",
        "outputId": "e725f959-7fba-4eb7-fe33-87b971fa99e1"
      },
      "execution_count": 28,
      "outputs": [
        {
          "output_type": "stream",
          "name": "stdout",
          "text": [
            "Epoch 1/10\n",
            "7500/7500 [==============================] - 16s 2ms/step - loss: 0.2642 - accuracy: 0.9268 - val_loss: 0.2702 - val_accuracy: 0.9249\n",
            "Epoch 2/10\n",
            "7500/7500 [==============================] - 17s 2ms/step - loss: 0.2633 - accuracy: 0.9272 - val_loss: 0.2703 - val_accuracy: 0.9231\n",
            "Epoch 3/10\n",
            "7500/7500 [==============================] - 16s 2ms/step - loss: 0.2624 - accuracy: 0.9273 - val_loss: 0.2717 - val_accuracy: 0.9232\n",
            "Epoch 4/10\n",
            "7500/7500 [==============================] - 16s 2ms/step - loss: 0.2617 - accuracy: 0.9276 - val_loss: 0.2688 - val_accuracy: 0.9231\n",
            "Epoch 5/10\n",
            "7500/7500 [==============================] - 16s 2ms/step - loss: 0.2611 - accuracy: 0.9281 - val_loss: 0.2692 - val_accuracy: 0.9233\n",
            "Epoch 6/10\n",
            "7500/7500 [==============================] - 17s 2ms/step - loss: 0.2604 - accuracy: 0.9279 - val_loss: 0.2686 - val_accuracy: 0.9253\n",
            "Epoch 7/10\n",
            "7500/7500 [==============================] - 16s 2ms/step - loss: 0.2598 - accuracy: 0.9284 - val_loss: 0.2679 - val_accuracy: 0.9246\n",
            "Epoch 8/10\n",
            "7500/7500 [==============================] - 16s 2ms/step - loss: 0.2591 - accuracy: 0.9281 - val_loss: 0.2670 - val_accuracy: 0.9241\n",
            "Epoch 9/10\n",
            "7500/7500 [==============================] - 16s 2ms/step - loss: 0.2586 - accuracy: 0.9286 - val_loss: 0.2665 - val_accuracy: 0.9243\n",
            "Epoch 10/10\n",
            "7500/7500 [==============================] - 15s 2ms/step - loss: 0.2578 - accuracy: 0.9287 - val_loss: 0.2668 - val_accuracy: 0.9255\n"
          ]
        }
      ]
    },
    {
      "cell_type": "markdown",
      "source": [
        "#test model "
      ],
      "metadata": {
        "id": "8bULE0jSQObI"
      }
    },
    {
      "cell_type": "code",
      "source": [
        "evo=model.evaluate(\n",
        "    final_x_test,\n",
        "    y_test,\n",
        ")"
      ],
      "metadata": {
        "colab": {
          "base_uri": "https://localhost:8080/"
        },
        "id": "gODGEcMAJ3qr",
        "outputId": "04700b4d-ddc2-4cf8-a19c-405cfc0e934e"
      },
      "execution_count": 26,
      "outputs": [
        {
          "output_type": "stream",
          "name": "stdout",
          "text": [
            "313/313 [==============================] - 1s 2ms/step - loss: 0.2702 - accuracy: 0.9227\n"
          ]
        }
      ]
    },
    {
      "cell_type": "markdown",
      "source": [
        "#draw accuracy and loss "
      ],
      "metadata": {
        "id": "LbPtYcsWQRK_"
      }
    },
    {
      "cell_type": "code",
      "source": [
        "import matplotlib.pyplot as plt\n",
        "%matplotlib inline\n",
        "plt.plot(result.history['loss'])\n",
        "plt.legend(['Training', 'Validation'])\n",
        "plt.title('Training and Validation losses')\n",
        "plt.xlabel('epoch')"
      ],
      "metadata": {
        "colab": {
          "base_uri": "https://localhost:8080/",
          "height": 314
        },
        "id": "E1UVa06IMcby",
        "outputId": "3c45a75c-36ed-4b14-be7a-c0a197eb21dd"
      },
      "execution_count": 23,
      "outputs": [
        {
          "output_type": "execute_result",
          "data": {
            "text/plain": [
              "Text(0.5, 0, 'epoch')"
            ]
          },
          "metadata": {},
          "execution_count": 23
        },
        {
          "output_type": "display_data",
          "data": {
            "text/plain": [
              "<Figure size 432x288 with 1 Axes>"
            ],
            "image/png": "[encoded data removed]"
          },
          "metadata": {
            "needs_background": "light"
          }
        }
      ]
    },
    {
      "cell_type": "code",
      "source": [
        "#plt.plot(evo.history['accuracy'])\n",
        "plt.plot(result.history['accuracy'])\n",
        "plt.plot(result.history['val_accuracy'])\n",
        "plt.legend(['Training', 'Validation'])\n",
        "plt.title('Training and Validation accuracy')\n",
        "plt.xlabel('epoch')"
      ],
      "metadata": {
        "colab": {
          "base_uri": "https://localhost:8080/",
          "height": 314
        },
        "id": "LzofqB9JNqKq",
        "outputId": "04f2755a-a849-4e02-b80d-fc93b54fecf4"
      },
      "execution_count": 29,
      "outputs": [
        {
          "output_type": "execute_result",
          "data": {
            "text/plain": [
              "Text(0.5, 0, 'epoch')"
            ]
          },
          "metadata": {},
          "execution_count": 29
        },
        {
          "output_type": "display_data",
          "data": {
            "text/plain": [
              "<Figure size 432x288 with 1 Axes>"
            ],
            "image/png": "[encoded data removed]"
          },
          "metadata": {
            "needs_background": "light"
          }
        }
      ]
    }
  ]
}